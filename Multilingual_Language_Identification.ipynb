{
  "nbformat": 4,
  "nbformat_minor": 0,
  "metadata": {
    "colab": {
      "name": "Multilingual_Detection.ipynb",
      "provenance": [],
      "mount_file_id": "12nRLXVdO9sWQKG0qQr_UlZ90V-H8U08H",
      "authorship_tag": "ABX9TyNt9ohvp82QhY4ZO4jSA8t7",
      "include_colab_link": true
    },
    "kernelspec": {
      "name": "python3",
      "display_name": "Python 3"
    },
    "language_info": {
      "name": "python"
    },
    "accelerator": "GPU"
  },
  "cells": [
    {
      "cell_type": "markdown",
      "metadata": {
        "id": "view-in-github",
        "colab_type": "text"
      },
      "source": [
        "<a href=\"https://colab.research.google.com/github/vaibhav-vemula/Multilingual_Language_Identification/blob/main/Multilingual_Language_Identification.ipynb\" target=\"_parent\"><img src=\"https://colab.research.google.com/assets/colab-badge.svg\" alt=\"Open In Colab\"/></a>"
      ]
    },
    {
      "cell_type": "markdown",
      "metadata": {
        "id": "273V3rOzOWLl"
      },
      "source": [
        "## **Language Identification in Multilingual sentence**\n",
        "\n",
        "---\n",
        "\n"
      ]
    },
    {
      "cell_type": "code",
      "metadata": {
        "id": "I9ZBCFe2itAi"
      },
      "source": [
        "import os\n",
        "os.chdir(\"/content/drive/MyDrive/MultiLingual_Detection/\")"
      ],
      "execution_count": null,
      "outputs": []
    },
    {
      "cell_type": "code",
      "metadata": {
        "id": "RmI0MuIbUIku"
      },
      "source": [
        "import pandas as pd\n",
        "import re\n",
        "\n",
        "from sklearn.metrics import accuracy_score\n",
        "from sklearn.feature_extraction.text import TfidfVectorizer\n",
        "from sklearn.linear_model import LogisticRegression\n",
        "from sklearn.pipeline import Pipeline\n",
        "from sklearn.model_selection import train_test_split"
      ],
      "execution_count": null,
      "outputs": []
    },
    {
      "cell_type": "markdown",
      "metadata": {
        "id": "uUC2GmMSOvlj"
      },
      "source": [
        "# Dataset \n",
        "\n",
        "Dataset used - https://drive.google.com/file/d/1-2lhUZy9x1WW3WHhTP2DrFl_t9vbPr58/view?usp=sharing\n",
        "\n",
        "Languages in the dataset - \n",
        "\n",
        "1. English\n",
        "2. French\n",
        "3. Spanish\n",
        "4. Hindi\n",
        "5. Portugeese\n",
        "6. Italian\n",
        "7. Russian\n",
        "8. Sweedish\n",
        "9. Malayalam\n",
        "10. Dutch\n",
        "11. Arabic\n",
        "12. Turkish\n",
        "13. German\n",
        "14. Tamil\n",
        "15. Danish\n",
        "16. Kannada\n",
        "17. Greek"
      ]
    },
    {
      "cell_type": "code",
      "metadata": {
        "id": "w9HkrRm5UtQr",
        "colab": {
          "base_uri": "https://localhost:8080/",
          "height": 423
        },
        "outputId": "ded7663d-a5cc-488e-a520-473090241eb5"
      },
      "source": [
        "df = pd.read_csv('Languages_Dataset.csv')\n",
        "df.drop(['Unnamed: 0'], axis=1, inplace =True)\n",
        "df"
      ],
      "execution_count": null,
      "outputs": [
        {
          "output_type": "execute_result",
          "data": {
            "text/html": [
              "<div>\n",
              "<style scoped>\n",
              "    .dataframe tbody tr th:only-of-type {\n",
              "        vertical-align: middle;\n",
              "    }\n",
              "\n",
              "    .dataframe tbody tr th {\n",
              "        vertical-align: top;\n",
              "    }\n",
              "\n",
              "    .dataframe thead th {\n",
              "        text-align: right;\n",
              "    }\n",
              "</style>\n",
              "<table border=\"1\" class=\"dataframe\">\n",
              "  <thead>\n",
              "    <tr style=\"text-align: right;\">\n",
              "      <th></th>\n",
              "      <th>Text</th>\n",
              "      <th>Language</th>\n",
              "    </tr>\n",
              "  </thead>\n",
              "  <tbody>\n",
              "    <tr>\n",
              "      <th>0</th>\n",
              "      <td>Nature, in the broadest sense, is the natural...</td>\n",
              "      <td>English</td>\n",
              "    </tr>\n",
              "    <tr>\n",
              "      <th>1</th>\n",
              "      <td>\"Nature\" can refer to the phenomena of the phy...</td>\n",
              "      <td>English</td>\n",
              "    </tr>\n",
              "    <tr>\n",
              "      <th>2</th>\n",
              "      <td>The study of nature is a large, if not the onl...</td>\n",
              "      <td>English</td>\n",
              "    </tr>\n",
              "    <tr>\n",
              "      <th>3</th>\n",
              "      <td>Although humans are part of nature, human acti...</td>\n",
              "      <td>English</td>\n",
              "    </tr>\n",
              "    <tr>\n",
              "      <th>4</th>\n",
              "      <td>[1] The word nature is borrowed from the Old F...</td>\n",
              "      <td>English</td>\n",
              "    </tr>\n",
              "    <tr>\n",
              "      <th>...</th>\n",
              "      <td>...</td>\n",
              "      <td>...</td>\n",
              "    </tr>\n",
              "    <tr>\n",
              "      <th>11050</th>\n",
              "      <td>31 अक्टूबर 1984 को काला दिवस कहा जाता है। इस द...</td>\n",
              "      <td>Hindi</td>\n",
              "    </tr>\n",
              "    <tr>\n",
              "      <th>11051</th>\n",
              "      <td>\\n\\nगुंडे को देख सत्तर और अस्सी के दशक का सिने...</td>\n",
              "      <td>Hindi</td>\n",
              "    </tr>\n",
              "    <tr>\n",
              "      <th>11052</th>\n",
              "      <td>Chandermohan.sharma@timesgroup.com ग्लैमर इंडस...</td>\n",
              "      <td>Hindi</td>\n",
              "    </tr>\n",
              "    <tr>\n",
              "      <th>11053</th>\n",
              "      <td>निर्माता :\\nसुनीता गोवारीकर, अजय बिजली, संजीव ...</td>\n",
              "      <td>Hindi</td>\n",
              "    </tr>\n",
              "    <tr>\n",
              "      <th>11054</th>\n",
              "      <td>फोर्स 2 उन अंडरकवर एजेंट्स को समर्पित है जो सम...</td>\n",
              "      <td>Hindi</td>\n",
              "    </tr>\n",
              "  </tbody>\n",
              "</table>\n",
              "<p>11055 rows × 2 columns</p>\n",
              "</div>"
            ],
            "text/plain": [
              "                                                    Text Language\n",
              "0       Nature, in the broadest sense, is the natural...  English\n",
              "1      \"Nature\" can refer to the phenomena of the phy...  English\n",
              "2      The study of nature is a large, if not the onl...  English\n",
              "3      Although humans are part of nature, human acti...  English\n",
              "4      [1] The word nature is borrowed from the Old F...  English\n",
              "...                                                  ...      ...\n",
              "11050  31 अक्टूबर 1984 को काला दिवस कहा जाता है। इस द...    Hindi\n",
              "11051  \\n\\nगुंडे को देख सत्तर और अस्सी के दशक का सिने...    Hindi\n",
              "11052  Chandermohan.sharma@timesgroup.com ग्लैमर इंडस...    Hindi\n",
              "11053  निर्माता :\\nसुनीता गोवारीकर, अजय बिजली, संजीव ...    Hindi\n",
              "11054  फोर्स 2 उन अंडरकवर एजेंट्स को समर्पित है जो सम...    Hindi\n",
              "\n",
              "[11055 rows x 2 columns]"
            ]
          },
          "metadata": {},
          "execution_count": 48
        }
      ]
    },
    {
      "cell_type": "code",
      "metadata": {
        "colab": {
          "base_uri": "https://localhost:8080/"
        },
        "id": "2Y06nBkgkciU",
        "outputId": "9c8440d4-fc2e-47f7-b282-7ad26e0754b0"
      },
      "source": [
        "df['Language'].value_counts()"
      ],
      "execution_count": null,
      "outputs": [
        {
          "output_type": "execute_result",
          "data": {
            "text/plain": [
              "English       1385\n",
              "French        1014\n",
              "Spanish        819\n",
              "Hindi          781\n",
              "Portugeese     739\n",
              "Italian        698\n",
              "Russian        692\n",
              "Sweedish       676\n",
              "Malayalam      594\n",
              "Dutch          546\n",
              "Arabic         536\n",
              "Turkish        474\n",
              "German         470\n",
              "Tamil          469\n",
              "Danish         428\n",
              "Kannada        369\n",
              "Greek          365\n",
              "Name: Language, dtype: int64"
            ]
          },
          "metadata": {},
          "execution_count": 49
        }
      ]
    },
    {
      "cell_type": "markdown",
      "metadata": {
        "id": "1N5nh2udQFOc"
      },
      "source": [
        "## Preprocessing\n",
        "\n",
        "Removing Digits, english letters in few languages, brackets, special characters, punctuations etc."
      ]
    },
    {
      "cell_type": "code",
      "metadata": {
        "id": "uTbL3Xm5o0k2"
      },
      "source": [
        "tmp = ['Russian','Malyalam','Hindi','Kannada','Tamil','Arabic']\n",
        "def preprocess_text(x,y):\n",
        "  if y in tmp:\n",
        "    x = re.sub(r'[a-zA-Z]+', '', x)\n",
        "  x = re.sub(r'[!@#$(),\\n\"%^*?\\:;~`0-9]', '', x)\n",
        "  x = re.sub(r'[[]]', '', x)\n",
        "  return x.lower()"
      ],
      "execution_count": null,
      "outputs": []
    },
    {
      "cell_type": "code",
      "metadata": {
        "id": "3BBcbqnRuy2D"
      },
      "source": [
        "x = df.apply(lambda x: preprocess_text(x.Text, x.Language), axis = 1)\n",
        "y = df['Language']"
      ],
      "execution_count": null,
      "outputs": []
    },
    {
      "cell_type": "code",
      "metadata": {
        "id": "f6mDpZqhXxrZ",
        "colab": {
          "base_uri": "https://localhost:8080/"
        },
        "outputId": "200e65f7-0372-4147-a413-911885603fee"
      },
      "source": [
        "x"
      ],
      "execution_count": null,
      "outputs": [
        {
          "output_type": "execute_result",
          "data": {
            "text/plain": [
              "0         nature in the broadest sense is the natural p...\n",
              "1        nature can refer to the phenomena of the physi...\n",
              "2        the study of nature is a large if not the only...\n",
              "3        although humans are part of nature human activ...\n",
              "4         the word nature is borrowed from the old fren...\n",
              "                               ...                        \n",
              "11050     अक्टूबर  को काला दिवस कहा जाता है। इस दिन तत्...\n",
              "11051    गुंडे को देख सत्तर और अस्सी के दशक का सिनेमा य...\n",
              "11052    .. ग्लैमर इंडस्ट्री में आर. बाल्की को बिग बी क...\n",
              "11053    निर्माता सुनीता गोवारीकर अजय बिजली संजीव के. ब...\n",
              "11054    फोर्स  उन अंडरकवर एजेंट्स को समर्पित है जो समय...\n",
              "Length: 11055, dtype: object"
            ]
          },
          "metadata": {},
          "execution_count": 52
        }
      ]
    },
    {
      "cell_type": "code",
      "metadata": {
        "colab": {
          "base_uri": "https://localhost:8080/"
        },
        "id": "fu92LZk-va08",
        "outputId": "627e8808-7b30-4c7d-963e-544501082817"
      },
      "source": [
        "y"
      ],
      "execution_count": null,
      "outputs": [
        {
          "output_type": "execute_result",
          "data": {
            "text/plain": [
              "0        English\n",
              "1        English\n",
              "2        English\n",
              "3        English\n",
              "4        English\n",
              "          ...   \n",
              "11050      Hindi\n",
              "11051      Hindi\n",
              "11052      Hindi\n",
              "11053      Hindi\n",
              "11054      Hindi\n",
              "Name: Language, Length: 11055, dtype: object"
            ]
          },
          "metadata": {},
          "execution_count": 53
        }
      ]
    },
    {
      "cell_type": "markdown",
      "metadata": {
        "id": "-lkO5h4pQq6B"
      },
      "source": [
        "## Model\n",
        "\n",
        "Two models in a pipeline-\n",
        "1. TfidfVectorizer() - word vector with trigrams(ngram = 3)\n",
        "2. LogisticRegression()"
      ]
    },
    {
      "cell_type": "code",
      "metadata": {
        "id": "XXM-igNmX8aI"
      },
      "source": [
        "x_train, x_test, y_train, y_test = train_test_split(x, y, random_state = 10, test_size=0.25)"
      ],
      "execution_count": null,
      "outputs": []
    },
    {
      "cell_type": "code",
      "metadata": {
        "id": "dmKswLKPYLuA"
      },
      "source": [
        "vect = TfidfVectorizer(ngram_range=(1,3), analyzer='char', encoding= 'utf-8')\n",
        "lg = LogisticRegression()"
      ],
      "execution_count": null,
      "outputs": []
    },
    {
      "cell_type": "code",
      "metadata": {
        "id": "4AQmJkBkYR2_"
      },
      "source": [
        "pipe = Pipeline([('idf_vector', vect),('logreg', lg)])"
      ],
      "execution_count": null,
      "outputs": []
    },
    {
      "cell_type": "code",
      "metadata": {
        "colab": {
          "base_uri": "https://localhost:8080/"
        },
        "id": "n12AdBhRaLoC",
        "outputId": "9702835a-8ac5-4678-a919-b99bb884346c"
      },
      "source": [
        "pipe.fit(x_train,y_train)"
      ],
      "execution_count": null,
      "outputs": [
        {
          "output_type": "execute_result",
          "data": {
            "text/plain": [
              "Pipeline(memory=None,\n",
              "         steps=[('idf_vector',\n",
              "                 TfidfVectorizer(analyzer='char', binary=False,\n",
              "                                 decode_error='strict',\n",
              "                                 dtype=<class 'numpy.float64'>,\n",
              "                                 encoding='utf-8', input='content',\n",
              "                                 lowercase=True, max_df=1.0, max_features=None,\n",
              "                                 min_df=1, ngram_range=(1, 3), norm='l2',\n",
              "                                 preprocessor=None, smooth_idf=True,\n",
              "                                 stop_words=None, strip_accents=None,\n",
              "                                 sublinear_tf=False,\n",
              "                                 token_pattern='(?u)\\\\b\\\\w\\\\w+\\\\b',\n",
              "                                 tokenizer=None, use_idf=True,\n",
              "                                 vocabulary=None)),\n",
              "                ('logreg',\n",
              "                 LogisticRegression(C=1.0, class_weight=None, dual=False,\n",
              "                                    fit_intercept=True, intercept_scaling=1,\n",
              "                                    l1_ratio=None, max_iter=100,\n",
              "                                    multi_class='auto', n_jobs=None,\n",
              "                                    penalty='l2', random_state=None,\n",
              "                                    solver='lbfgs', tol=0.0001, verbose=0,\n",
              "                                    warm_start=False))],\n",
              "         verbose=False)"
            ]
          },
          "metadata": {},
          "execution_count": 57
        }
      ]
    },
    {
      "cell_type": "code",
      "metadata": {
        "id": "RqNqiBSkaN-n",
        "colab": {
          "base_uri": "https://localhost:8080/"
        },
        "outputId": "3a3f470e-9728-4280-b825-2f8af032feab"
      },
      "source": [
        "y_pred = pipe.predict(x_test)\n",
        "acc = accuracy_score(y_test,y_pred)\n",
        "print(\"Accuracy = \",acc*100,\"%\" )"
      ],
      "execution_count": null,
      "outputs": [
        {
          "output_type": "stream",
          "name": "stdout",
          "text": [
            "Accuracy =  98.84225759768451 %\n"
          ]
        }
      ]
    },
    {
      "cell_type": "markdown",
      "metadata": {
        "id": "Y8dBs2_HQ7bw"
      },
      "source": [
        "## Prediction - "
      ]
    },
    {
      "cell_type": "code",
      "metadata": {
        "id": "6_-aJ5e9acaL"
      },
      "source": [
        "def pred(sentence):\n",
        "  words = sentence.split(' ')\n",
        "  # print(words)\n",
        "  l=[]\n",
        "  print('Languages Detected in the Sentence - \\n')\n",
        "  for i,word in enumerate(words):\n",
        "    lang = pipe.predict([word])\n",
        "    l.append(lang[0])\n",
        "    if i == 0:\n",
        "      print(l[i])\n",
        "    else:\n",
        "      if l[i-1] == l[i]:\n",
        "        continue\n",
        "      else:\n",
        "        print(l[i])"
      ],
      "execution_count": null,
      "outputs": []
    },
    {
      "cell_type": "code",
      "metadata": {
        "id": "ye1gyzVkaeGS",
        "colab": {
          "base_uri": "https://localhost:8080/"
        },
        "outputId": "a84fdf42-1d77-4138-da5e-16f29aae54bb"
      },
      "source": [
        "sentence = 'भाषा भाषा ПРОВЕРКА ലാംഗ്വേജ് ലാംഗ്വേജ് ലാംഗ്വേജ് ലാംഗ്വേജ് ലാംഗ്വേജ് ലാംഗ്വേജ് ലാംഗ്വേജ് VÉRIFICATION'\n",
        "pred(sentence)"
      ],
      "execution_count": null,
      "outputs": [
        {
          "output_type": "stream",
          "name": "stdout",
          "text": [
            "Languages Detected in the Sentence - \n",
            "\n",
            "Hindi\n",
            "Russian\n",
            "Malayalam\n",
            "French\n"
          ]
        }
      ]
    },
    {
      "cell_type": "code",
      "metadata": {
        "id": "2gliFtzEDjxG",
        "colab": {
          "base_uri": "https://localhost:8080/"
        },
        "outputId": "56e8cb6a-3d66-47f3-f54d-8a0ef6341348"
      },
      "source": [
        "sentence = 'ಕನ್ನಡ ലാംഗ്വേജ് को काला कहा जाता है മലയാളം மொழி' \n",
        "pred(sentence)"
      ],
      "execution_count": null,
      "outputs": [
        {
          "output_type": "stream",
          "name": "stdout",
          "text": [
            "Languages Detected in the Sentence - \n",
            "\n",
            "Kannada\n",
            "Malayalam\n",
            "Hindi\n",
            "Malayalam\n",
            "Tamil\n"
          ]
        }
      ]
    },
    {
      "cell_type": "code",
      "metadata": {
        "id": "pqbtA8RKKpCc"
      },
      "source": [
        ""
      ],
      "execution_count": null,
      "outputs": []
    }
  ]
}